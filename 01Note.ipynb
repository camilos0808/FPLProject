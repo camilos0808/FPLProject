{
 "cells": [
  {
   "cell_type": "code",
   "execution_count": 2,
   "metadata": {
    "collapsed": true
   },
   "outputs": [],
   "source": [
    "from api import FPLClient\n",
    "\n",
    "client = FPLClient()"
   ]
  },
  {
   "cell_type": "code",
   "execution_count": 3,
   "metadata": {
    "collapsed": false,
    "pycharm": {
     "name": "#%%\n"
    }
   },
   "outputs": [
    {
     "data": {
      "text/html": [
       "<div>\n",
       "<style scoped>\n",
       "    .dataframe tbody tr th:only-of-type {\n",
       "        vertical-align: middle;\n",
       "    }\n",
       "\n",
       "    .dataframe tbody tr th {\n",
       "        vertical-align: top;\n",
       "    }\n",
       "\n",
       "    .dataframe thead th {\n",
       "        text-align: right;\n",
       "    }\n",
       "</style>\n",
       "<table border=\"1\" class=\"dataframe\">\n",
       "  <thead>\n",
       "    <tr style=\"text-align: right;\">\n",
       "      <th></th>\n",
       "      <th>id</th>\n",
       "      <th>plural_name</th>\n",
       "      <th>plural_name_short</th>\n",
       "      <th>singular_name</th>\n",
       "      <th>singular_name_short</th>\n",
       "      <th>squad_select</th>\n",
       "      <th>squad_min_play</th>\n",
       "      <th>squad_max_play</th>\n",
       "      <th>ui_shirt_specific</th>\n",
       "      <th>sub_positions_locked</th>\n",
       "      <th>element_count</th>\n",
       "    </tr>\n",
       "  </thead>\n",
       "  <tbody>\n",
       "    <tr>\n",
       "      <th>0</th>\n",
       "      <td>1</td>\n",
       "      <td>Goalkeepers</td>\n",
       "      <td>GKP</td>\n",
       "      <td>Goalkeeper</td>\n",
       "      <td>GKP</td>\n",
       "      <td>2</td>\n",
       "      <td>1</td>\n",
       "      <td>1</td>\n",
       "      <td>True</td>\n",
       "      <td>[12]</td>\n",
       "      <td>67</td>\n",
       "    </tr>\n",
       "    <tr>\n",
       "      <th>1</th>\n",
       "      <td>2</td>\n",
       "      <td>Defenders</td>\n",
       "      <td>DEF</td>\n",
       "      <td>Defender</td>\n",
       "      <td>DEF</td>\n",
       "      <td>5</td>\n",
       "      <td>3</td>\n",
       "      <td>5</td>\n",
       "      <td>False</td>\n",
       "      <td>[]</td>\n",
       "      <td>232</td>\n",
       "    </tr>\n",
       "    <tr>\n",
       "      <th>2</th>\n",
       "      <td>3</td>\n",
       "      <td>Midfielders</td>\n",
       "      <td>MID</td>\n",
       "      <td>Midfielder</td>\n",
       "      <td>MID</td>\n",
       "      <td>5</td>\n",
       "      <td>2</td>\n",
       "      <td>5</td>\n",
       "      <td>False</td>\n",
       "      <td>[]</td>\n",
       "      <td>278</td>\n",
       "    </tr>\n",
       "    <tr>\n",
       "      <th>3</th>\n",
       "      <td>4</td>\n",
       "      <td>Forwards</td>\n",
       "      <td>FWD</td>\n",
       "      <td>Forward</td>\n",
       "      <td>FWD</td>\n",
       "      <td>3</td>\n",
       "      <td>1</td>\n",
       "      <td>3</td>\n",
       "      <td>False</td>\n",
       "      <td>[]</td>\n",
       "      <td>71</td>\n",
       "    </tr>\n",
       "  </tbody>\n",
       "</table>\n",
       "</div>"
      ],
      "text/plain": [
       "   id  plural_name plural_name_short singular_name singular_name_short  \\\n",
       "0   1  Goalkeepers               GKP    Goalkeeper                 GKP   \n",
       "1   2    Defenders               DEF      Defender                 DEF   \n",
       "2   3  Midfielders               MID    Midfielder                 MID   \n",
       "3   4     Forwards               FWD       Forward                 FWD   \n",
       "\n",
       "   squad_select  squad_min_play  squad_max_play  ui_shirt_specific  \\\n",
       "0             2               1               1               True   \n",
       "1             5               3               5              False   \n",
       "2             5               2               5              False   \n",
       "3             3               1               3              False   \n",
       "\n",
       "  sub_positions_locked  element_count  \n",
       "0                 [12]             67  \n",
       "1                   []            232  \n",
       "2                   []            278  \n",
       "3                   []             71  "
      ]
     },
     "execution_count": 3,
     "metadata": {},
     "output_type": "execute_result"
    }
   ],
   "source": [
    "client.general.team_selection_details()"
   ]
  },
  {
   "cell_type": "code",
   "execution_count": null,
   "metadata": {
    "collapsed": false,
    "pycharm": {
     "name": "#%%\n"
    }
   },
   "outputs": [],
   "source": []
  }
 ],
 "metadata": {
  "kernelspec": {
   "display_name": "Python 3.10.6 ('Photo')",
   "language": "python",
   "name": "python3"
  },
  "language_info": {
   "codemirror_mode": {
    "name": "ipython",
    "version": 3
   },
   "file_extension": ".py",
   "mimetype": "text/x-python",
   "name": "python",
   "nbconvert_exporter": "python",
   "pygments_lexer": "ipython3",
   "version": "3.10.6"
  },
  "vscode": {
   "interpreter": {
    "hash": "a8b279f9e0b0573b995701f08eaab191ca4cfdd504ed1cba53e3771956af99d6"
   }
  }
 },
 "nbformat": 4,
 "nbformat_minor": 0
}
